{
  "nbformat": 4,
  "nbformat_minor": 0,
  "metadata": {
    "colab": {
      "provenance": [],
      "authorship_tag": "ABX9TyP2xC5nHMTbx7QEpIWOaALY",
      "include_colab_link": true
    },
    "kernelspec": {
      "name": "python3",
      "display_name": "Python 3"
    },
    "language_info": {
      "name": "python"
    },
    "widgets": {
      "application/vnd.jupyter.widget-state+json": {
        "fdbbba5132bc4d8f9188d72a126a4083": {
          "model_module": "@jupyter-widgets/controls",
          "model_name": "HBoxModel",
          "model_module_version": "1.5.0",
          "state": {
            "_dom_classes": [],
            "_model_module": "@jupyter-widgets/controls",
            "_model_module_version": "1.5.0",
            "_model_name": "HBoxModel",
            "_view_count": null,
            "_view_module": "@jupyter-widgets/controls",
            "_view_module_version": "1.5.0",
            "_view_name": "HBoxView",
            "box_style": "",
            "children": [
              "IPY_MODEL_817ebc71dd7d4f08a306f2fe60a58776",
              "IPY_MODEL_a77288fe710a46ebb3eaee54a3be0257",
              "IPY_MODEL_399d4e829b4947698bf3f2e1b158d269"
            ],
            "layout": "IPY_MODEL_3b4f18afe5d8456880bf4181b5dd0ff8"
          }
        },
        "817ebc71dd7d4f08a306f2fe60a58776": {
          "model_module": "@jupyter-widgets/controls",
          "model_name": "HTMLModel",
          "model_module_version": "1.5.0",
          "state": {
            "_dom_classes": [],
            "_model_module": "@jupyter-widgets/controls",
            "_model_module_version": "1.5.0",
            "_model_name": "HTMLModel",
            "_view_count": null,
            "_view_module": "@jupyter-widgets/controls",
            "_view_module_version": "1.5.0",
            "_view_name": "HTMLView",
            "description": "",
            "description_tooltip": null,
            "layout": "IPY_MODEL_1a27de863c4e4200a09ad1640d212623",
            "placeholder": "​",
            "style": "IPY_MODEL_6b15816812374cf7b07c4104409c775c",
            "value": "tokenizer_config.json: 100%"
          }
        },
        "a77288fe710a46ebb3eaee54a3be0257": {
          "model_module": "@jupyter-widgets/controls",
          "model_name": "FloatProgressModel",
          "model_module_version": "1.5.0",
          "state": {
            "_dom_classes": [],
            "_model_module": "@jupyter-widgets/controls",
            "_model_module_version": "1.5.0",
            "_model_name": "FloatProgressModel",
            "_view_count": null,
            "_view_module": "@jupyter-widgets/controls",
            "_view_module_version": "1.5.0",
            "_view_name": "ProgressView",
            "bar_style": "success",
            "description": "",
            "description_tooltip": null,
            "layout": "IPY_MODEL_4a2d63836fcc4ae6aa5367303c6389fa",
            "max": 28,
            "min": 0,
            "orientation": "horizontal",
            "style": "IPY_MODEL_060a25290e1d445a85d919c69c200fa8",
            "value": 28
          }
        },
        "399d4e829b4947698bf3f2e1b158d269": {
          "model_module": "@jupyter-widgets/controls",
          "model_name": "HTMLModel",
          "model_module_version": "1.5.0",
          "state": {
            "_dom_classes": [],
            "_model_module": "@jupyter-widgets/controls",
            "_model_module_version": "1.5.0",
            "_model_name": "HTMLModel",
            "_view_count": null,
            "_view_module": "@jupyter-widgets/controls",
            "_view_module_version": "1.5.0",
            "_view_name": "HTMLView",
            "description": "",
            "description_tooltip": null,
            "layout": "IPY_MODEL_fdd287c5b55c4feb93a8e4ea2ab2234b",
            "placeholder": "​",
            "style": "IPY_MODEL_cf6747888d154cb3910c535a637b3040",
            "value": " 28.0/28.0 [00:00&lt;00:00, 486B/s]"
          }
        },
        "3b4f18afe5d8456880bf4181b5dd0ff8": {
          "model_module": "@jupyter-widgets/base",
          "model_name": "LayoutModel",
          "model_module_version": "1.2.0",
          "state": {
            "_model_module": "@jupyter-widgets/base",
            "_model_module_version": "1.2.0",
            "_model_name": "LayoutModel",
            "_view_count": null,
            "_view_module": "@jupyter-widgets/base",
            "_view_module_version": "1.2.0",
            "_view_name": "LayoutView",
            "align_content": null,
            "align_items": null,
            "align_self": null,
            "border": null,
            "bottom": null,
            "display": null,
            "flex": null,
            "flex_flow": null,
            "grid_area": null,
            "grid_auto_columns": null,
            "grid_auto_flow": null,
            "grid_auto_rows": null,
            "grid_column": null,
            "grid_gap": null,
            "grid_row": null,
            "grid_template_areas": null,
            "grid_template_columns": null,
            "grid_template_rows": null,
            "height": null,
            "justify_content": null,
            "justify_items": null,
            "left": null,
            "margin": null,
            "max_height": null,
            "max_width": null,
            "min_height": null,
            "min_width": null,
            "object_fit": null,
            "object_position": null,
            "order": null,
            "overflow": null,
            "overflow_x": null,
            "overflow_y": null,
            "padding": null,
            "right": null,
            "top": null,
            "visibility": null,
            "width": null
          }
        },
        "1a27de863c4e4200a09ad1640d212623": {
          "model_module": "@jupyter-widgets/base",
          "model_name": "LayoutModel",
          "model_module_version": "1.2.0",
          "state": {
            "_model_module": "@jupyter-widgets/base",
            "_model_module_version": "1.2.0",
            "_model_name": "LayoutModel",
            "_view_count": null,
            "_view_module": "@jupyter-widgets/base",
            "_view_module_version": "1.2.0",
            "_view_name": "LayoutView",
            "align_content": null,
            "align_items": null,
            "align_self": null,
            "border": null,
            "bottom": null,
            "display": null,
            "flex": null,
            "flex_flow": null,
            "grid_area": null,
            "grid_auto_columns": null,
            "grid_auto_flow": null,
            "grid_auto_rows": null,
            "grid_column": null,
            "grid_gap": null,
            "grid_row": null,
            "grid_template_areas": null,
            "grid_template_columns": null,
            "grid_template_rows": null,
            "height": null,
            "justify_content": null,
            "justify_items": null,
            "left": null,
            "margin": null,
            "max_height": null,
            "max_width": null,
            "min_height": null,
            "min_width": null,
            "object_fit": null,
            "object_position": null,
            "order": null,
            "overflow": null,
            "overflow_x": null,
            "overflow_y": null,
            "padding": null,
            "right": null,
            "top": null,
            "visibility": null,
            "width": null
          }
        },
        "6b15816812374cf7b07c4104409c775c": {
          "model_module": "@jupyter-widgets/controls",
          "model_name": "DescriptionStyleModel",
          "model_module_version": "1.5.0",
          "state": {
            "_model_module": "@jupyter-widgets/controls",
            "_model_module_version": "1.5.0",
            "_model_name": "DescriptionStyleModel",
            "_view_count": null,
            "_view_module": "@jupyter-widgets/base",
            "_view_module_version": "1.2.0",
            "_view_name": "StyleView",
            "description_width": ""
          }
        },
        "4a2d63836fcc4ae6aa5367303c6389fa": {
          "model_module": "@jupyter-widgets/base",
          "model_name": "LayoutModel",
          "model_module_version": "1.2.0",
          "state": {
            "_model_module": "@jupyter-widgets/base",
            "_model_module_version": "1.2.0",
            "_model_name": "LayoutModel",
            "_view_count": null,
            "_view_module": "@jupyter-widgets/base",
            "_view_module_version": "1.2.0",
            "_view_name": "LayoutView",
            "align_content": null,
            "align_items": null,
            "align_self": null,
            "border": null,
            "bottom": null,
            "display": null,
            "flex": null,
            "flex_flow": null,
            "grid_area": null,
            "grid_auto_columns": null,
            "grid_auto_flow": null,
            "grid_auto_rows": null,
            "grid_column": null,
            "grid_gap": null,
            "grid_row": null,
            "grid_template_areas": null,
            "grid_template_columns": null,
            "grid_template_rows": null,
            "height": null,
            "justify_content": null,
            "justify_items": null,
            "left": null,
            "margin": null,
            "max_height": null,
            "max_width": null,
            "min_height": null,
            "min_width": null,
            "object_fit": null,
            "object_position": null,
            "order": null,
            "overflow": null,
            "overflow_x": null,
            "overflow_y": null,
            "padding": null,
            "right": null,
            "top": null,
            "visibility": null,
            "width": null
          }
        },
        "060a25290e1d445a85d919c69c200fa8": {
          "model_module": "@jupyter-widgets/controls",
          "model_name": "ProgressStyleModel",
          "model_module_version": "1.5.0",
          "state": {
            "_model_module": "@jupyter-widgets/controls",
            "_model_module_version": "1.5.0",
            "_model_name": "ProgressStyleModel",
            "_view_count": null,
            "_view_module": "@jupyter-widgets/base",
            "_view_module_version": "1.2.0",
            "_view_name": "StyleView",
            "bar_color": null,
            "description_width": ""
          }
        },
        "fdd287c5b55c4feb93a8e4ea2ab2234b": {
          "model_module": "@jupyter-widgets/base",
          "model_name": "LayoutModel",
          "model_module_version": "1.2.0",
          "state": {
            "_model_module": "@jupyter-widgets/base",
            "_model_module_version": "1.2.0",
            "_model_name": "LayoutModel",
            "_view_count": null,
            "_view_module": "@jupyter-widgets/base",
            "_view_module_version": "1.2.0",
            "_view_name": "LayoutView",
            "align_content": null,
            "align_items": null,
            "align_self": null,
            "border": null,
            "bottom": null,
            "display": null,
            "flex": null,
            "flex_flow": null,
            "grid_area": null,
            "grid_auto_columns": null,
            "grid_auto_flow": null,
            "grid_auto_rows": null,
            "grid_column": null,
            "grid_gap": null,
            "grid_row": null,
            "grid_template_areas": null,
            "grid_template_columns": null,
            "grid_template_rows": null,
            "height": null,
            "justify_content": null,
            "justify_items": null,
            "left": null,
            "margin": null,
            "max_height": null,
            "max_width": null,
            "min_height": null,
            "min_width": null,
            "object_fit": null,
            "object_position": null,
            "order": null,
            "overflow": null,
            "overflow_x": null,
            "overflow_y": null,
            "padding": null,
            "right": null,
            "top": null,
            "visibility": null,
            "width": null
          }
        },
        "cf6747888d154cb3910c535a637b3040": {
          "model_module": "@jupyter-widgets/controls",
          "model_name": "DescriptionStyleModel",
          "model_module_version": "1.5.0",
          "state": {
            "_model_module": "@jupyter-widgets/controls",
            "_model_module_version": "1.5.0",
            "_model_name": "DescriptionStyleModel",
            "_view_count": null,
            "_view_module": "@jupyter-widgets/base",
            "_view_module_version": "1.2.0",
            "_view_name": "StyleView",
            "description_width": ""
          }
        },
        "4e406e935d3c42cc952c0c73aaacd9b9": {
          "model_module": "@jupyter-widgets/controls",
          "model_name": "HBoxModel",
          "model_module_version": "1.5.0",
          "state": {
            "_dom_classes": [],
            "_model_module": "@jupyter-widgets/controls",
            "_model_module_version": "1.5.0",
            "_model_name": "HBoxModel",
            "_view_count": null,
            "_view_module": "@jupyter-widgets/controls",
            "_view_module_version": "1.5.0",
            "_view_name": "HBoxView",
            "box_style": "",
            "children": [
              "IPY_MODEL_9d5a3ae21d074cf6948d47aeda6f1f63",
              "IPY_MODEL_1fbbb63b71a1483eab44a0c8fc211dd6",
              "IPY_MODEL_35992fdd6df74b3c8886696cc5c3ad31"
            ],
            "layout": "IPY_MODEL_5e8dfd4d970146249105ed6b609124a6"
          }
        },
        "9d5a3ae21d074cf6948d47aeda6f1f63": {
          "model_module": "@jupyter-widgets/controls",
          "model_name": "HTMLModel",
          "model_module_version": "1.5.0",
          "state": {
            "_dom_classes": [],
            "_model_module": "@jupyter-widgets/controls",
            "_model_module_version": "1.5.0",
            "_model_name": "HTMLModel",
            "_view_count": null,
            "_view_module": "@jupyter-widgets/controls",
            "_view_module_version": "1.5.0",
            "_view_name": "HTMLView",
            "description": "",
            "description_tooltip": null,
            "layout": "IPY_MODEL_c61e4cf0cb2b4f9db33ca1255113cb3e",
            "placeholder": "​",
            "style": "IPY_MODEL_734a54f2e461407f950282ff177a9f42",
            "value": "config.json: 100%"
          }
        },
        "1fbbb63b71a1483eab44a0c8fc211dd6": {
          "model_module": "@jupyter-widgets/controls",
          "model_name": "FloatProgressModel",
          "model_module_version": "1.5.0",
          "state": {
            "_dom_classes": [],
            "_model_module": "@jupyter-widgets/controls",
            "_model_module_version": "1.5.0",
            "_model_name": "FloatProgressModel",
            "_view_count": null,
            "_view_module": "@jupyter-widgets/controls",
            "_view_module_version": "1.5.0",
            "_view_name": "ProgressView",
            "bar_style": "success",
            "description": "",
            "description_tooltip": null,
            "layout": "IPY_MODEL_774a5be1717c42a6b15eb0315723f2f1",
            "max": 570,
            "min": 0,
            "orientation": "horizontal",
            "style": "IPY_MODEL_f1aaa78ed7ab4beebf0ab3a1f4833d52",
            "value": 570
          }
        },
        "35992fdd6df74b3c8886696cc5c3ad31": {
          "model_module": "@jupyter-widgets/controls",
          "model_name": "HTMLModel",
          "model_module_version": "1.5.0",
          "state": {
            "_dom_classes": [],
            "_model_module": "@jupyter-widgets/controls",
            "_model_module_version": "1.5.0",
            "_model_name": "HTMLModel",
            "_view_count": null,
            "_view_module": "@jupyter-widgets/controls",
            "_view_module_version": "1.5.0",
            "_view_name": "HTMLView",
            "description": "",
            "description_tooltip": null,
            "layout": "IPY_MODEL_624d428675e44f62beaa2b984a5b5c51",
            "placeholder": "​",
            "style": "IPY_MODEL_47f4cbb67dfc4933abb671edc21c1356",
            "value": " 570/570 [00:00&lt;00:00, 11.5kB/s]"
          }
        },
        "5e8dfd4d970146249105ed6b609124a6": {
          "model_module": "@jupyter-widgets/base",
          "model_name": "LayoutModel",
          "model_module_version": "1.2.0",
          "state": {
            "_model_module": "@jupyter-widgets/base",
            "_model_module_version": "1.2.0",
            "_model_name": "LayoutModel",
            "_view_count": null,
            "_view_module": "@jupyter-widgets/base",
            "_view_module_version": "1.2.0",
            "_view_name": "LayoutView",
            "align_content": null,
            "align_items": null,
            "align_self": null,
            "border": null,
            "bottom": null,
            "display": null,
            "flex": null,
            "flex_flow": null,
            "grid_area": null,
            "grid_auto_columns": null,
            "grid_auto_flow": null,
            "grid_auto_rows": null,
            "grid_column": null,
            "grid_gap": null,
            "grid_row": null,
            "grid_template_areas": null,
            "grid_template_columns": null,
            "grid_template_rows": null,
            "height": null,
            "justify_content": null,
            "justify_items": null,
            "left": null,
            "margin": null,
            "max_height": null,
            "max_width": null,
            "min_height": null,
            "min_width": null,
            "object_fit": null,
            "object_position": null,
            "order": null,
            "overflow": null,
            "overflow_x": null,
            "overflow_y": null,
            "padding": null,
            "right": null,
            "top": null,
            "visibility": null,
            "width": null
          }
        },
        "c61e4cf0cb2b4f9db33ca1255113cb3e": {
          "model_module": "@jupyter-widgets/base",
          "model_name": "LayoutModel",
          "model_module_version": "1.2.0",
          "state": {
            "_model_module": "@jupyter-widgets/base",
            "_model_module_version": "1.2.0",
            "_model_name": "LayoutModel",
            "_view_count": null,
            "_view_module": "@jupyter-widgets/base",
            "_view_module_version": "1.2.0",
            "_view_name": "LayoutView",
            "align_content": null,
            "align_items": null,
            "align_self": null,
            "border": null,
            "bottom": null,
            "display": null,
            "flex": null,
            "flex_flow": null,
            "grid_area": null,
            "grid_auto_columns": null,
            "grid_auto_flow": null,
            "grid_auto_rows": null,
            "grid_column": null,
            "grid_gap": null,
            "grid_row": null,
            "grid_template_areas": null,
            "grid_template_columns": null,
            "grid_template_rows": null,
            "height": null,
            "justify_content": null,
            "justify_items": null,
            "left": null,
            "margin": null,
            "max_height": null,
            "max_width": null,
            "min_height": null,
            "min_width": null,
            "object_fit": null,
            "object_position": null,
            "order": null,
            "overflow": null,
            "overflow_x": null,
            "overflow_y": null,
            "padding": null,
            "right": null,
            "top": null,
            "visibility": null,
            "width": null
          }
        },
        "734a54f2e461407f950282ff177a9f42": {
          "model_module": "@jupyter-widgets/controls",
          "model_name": "DescriptionStyleModel",
          "model_module_version": "1.5.0",
          "state": {
            "_model_module": "@jupyter-widgets/controls",
            "_model_module_version": "1.5.0",
            "_model_name": "DescriptionStyleModel",
            "_view_count": null,
            "_view_module": "@jupyter-widgets/base",
            "_view_module_version": "1.2.0",
            "_view_name": "StyleView",
            "description_width": ""
          }
        },
        "774a5be1717c42a6b15eb0315723f2f1": {
          "model_module": "@jupyter-widgets/base",
          "model_name": "LayoutModel",
          "model_module_version": "1.2.0",
          "state": {
            "_model_module": "@jupyter-widgets/base",
            "_model_module_version": "1.2.0",
            "_model_name": "LayoutModel",
            "_view_count": null,
            "_view_module": "@jupyter-widgets/base",
            "_view_module_version": "1.2.0",
            "_view_name": "LayoutView",
            "align_content": null,
            "align_items": null,
            "align_self": null,
            "border": null,
            "bottom": null,
            "display": null,
            "flex": null,
            "flex_flow": null,
            "grid_area": null,
            "grid_auto_columns": null,
            "grid_auto_flow": null,
            "grid_auto_rows": null,
            "grid_column": null,
            "grid_gap": null,
            "grid_row": null,
            "grid_template_areas": null,
            "grid_template_columns": null,
            "grid_template_rows": null,
            "height": null,
            "justify_content": null,
            "justify_items": null,
            "left": null,
            "margin": null,
            "max_height": null,
            "max_width": null,
            "min_height": null,
            "min_width": null,
            "object_fit": null,
            "object_position": null,
            "order": null,
            "overflow": null,
            "overflow_x": null,
            "overflow_y": null,
            "padding": null,
            "right": null,
            "top": null,
            "visibility": null,
            "width": null
          }
        },
        "f1aaa78ed7ab4beebf0ab3a1f4833d52": {
          "model_module": "@jupyter-widgets/controls",
          "model_name": "ProgressStyleModel",
          "model_module_version": "1.5.0",
          "state": {
            "_model_module": "@jupyter-widgets/controls",
            "_model_module_version": "1.5.0",
            "_model_name": "ProgressStyleModel",
            "_view_count": null,
            "_view_module": "@jupyter-widgets/base",
            "_view_module_version": "1.2.0",
            "_view_name": "StyleView",
            "bar_color": null,
            "description_width": ""
          }
        },
        "624d428675e44f62beaa2b984a5b5c51": {
          "model_module": "@jupyter-widgets/base",
          "model_name": "LayoutModel",
          "model_module_version": "1.2.0",
          "state": {
            "_model_module": "@jupyter-widgets/base",
            "_model_module_version": "1.2.0",
            "_model_name": "LayoutModel",
            "_view_count": null,
            "_view_module": "@jupyter-widgets/base",
            "_view_module_version": "1.2.0",
            "_view_name": "LayoutView",
            "align_content": null,
            "align_items": null,
            "align_self": null,
            "border": null,
            "bottom": null,
            "display": null,
            "flex": null,
            "flex_flow": null,
            "grid_area": null,
            "grid_auto_columns": null,
            "grid_auto_flow": null,
            "grid_auto_rows": null,
            "grid_column": null,
            "grid_gap": null,
            "grid_row": null,
            "grid_template_areas": null,
            "grid_template_columns": null,
            "grid_template_rows": null,
            "height": null,
            "justify_content": null,
            "justify_items": null,
            "left": null,
            "margin": null,
            "max_height": null,
            "max_width": null,
            "min_height": null,
            "min_width": null,
            "object_fit": null,
            "object_position": null,
            "order": null,
            "overflow": null,
            "overflow_x": null,
            "overflow_y": null,
            "padding": null,
            "right": null,
            "top": null,
            "visibility": null,
            "width": null
          }
        },
        "47f4cbb67dfc4933abb671edc21c1356": {
          "model_module": "@jupyter-widgets/controls",
          "model_name": "DescriptionStyleModel",
          "model_module_version": "1.5.0",
          "state": {
            "_model_module": "@jupyter-widgets/controls",
            "_model_module_version": "1.5.0",
            "_model_name": "DescriptionStyleModel",
            "_view_count": null,
            "_view_module": "@jupyter-widgets/base",
            "_view_module_version": "1.2.0",
            "_view_name": "StyleView",
            "description_width": ""
          }
        },
        "655bbade45d54a46bc0ff1edf1ffa321": {
          "model_module": "@jupyter-widgets/controls",
          "model_name": "HBoxModel",
          "model_module_version": "1.5.0",
          "state": {
            "_dom_classes": [],
            "_model_module": "@jupyter-widgets/controls",
            "_model_module_version": "1.5.0",
            "_model_name": "HBoxModel",
            "_view_count": null,
            "_view_module": "@jupyter-widgets/controls",
            "_view_module_version": "1.5.0",
            "_view_name": "HBoxView",
            "box_style": "",
            "children": [
              "IPY_MODEL_d0c455a4cd9b444db4f8471a9f450133",
              "IPY_MODEL_15778ea912a340dd93258b42bdf64934",
              "IPY_MODEL_2116d797f97b4dac86ce7fda45f26180"
            ],
            "layout": "IPY_MODEL_22fc7958bd634ad28df26bc454448056"
          }
        },
        "d0c455a4cd9b444db4f8471a9f450133": {
          "model_module": "@jupyter-widgets/controls",
          "model_name": "HTMLModel",
          "model_module_version": "1.5.0",
          "state": {
            "_dom_classes": [],
            "_model_module": "@jupyter-widgets/controls",
            "_model_module_version": "1.5.0",
            "_model_name": "HTMLModel",
            "_view_count": null,
            "_view_module": "@jupyter-widgets/controls",
            "_view_module_version": "1.5.0",
            "_view_name": "HTMLView",
            "description": "",
            "description_tooltip": null,
            "layout": "IPY_MODEL_6e9f577d064249348f466fdb6df4a230",
            "placeholder": "​",
            "style": "IPY_MODEL_ac71533b592948fca6c8c70d4c6a080c",
            "value": "vocab.txt: 100%"
          }
        },
        "15778ea912a340dd93258b42bdf64934": {
          "model_module": "@jupyter-widgets/controls",
          "model_name": "FloatProgressModel",
          "model_module_version": "1.5.0",
          "state": {
            "_dom_classes": [],
            "_model_module": "@jupyter-widgets/controls",
            "_model_module_version": "1.5.0",
            "_model_name": "FloatProgressModel",
            "_view_count": null,
            "_view_module": "@jupyter-widgets/controls",
            "_view_module_version": "1.5.0",
            "_view_name": "ProgressView",
            "bar_style": "success",
            "description": "",
            "description_tooltip": null,
            "layout": "IPY_MODEL_ec98b345e0ed457abb9e346e5e93a399",
            "max": 231508,
            "min": 0,
            "orientation": "horizontal",
            "style": "IPY_MODEL_48d16f615a8a4da6b73e4b9c3225dde6",
            "value": 231508
          }
        },
        "2116d797f97b4dac86ce7fda45f26180": {
          "model_module": "@jupyter-widgets/controls",
          "model_name": "HTMLModel",
          "model_module_version": "1.5.0",
          "state": {
            "_dom_classes": [],
            "_model_module": "@jupyter-widgets/controls",
            "_model_module_version": "1.5.0",
            "_model_name": "HTMLModel",
            "_view_count": null,
            "_view_module": "@jupyter-widgets/controls",
            "_view_module_version": "1.5.0",
            "_view_name": "HTMLView",
            "description": "",
            "description_tooltip": null,
            "layout": "IPY_MODEL_09aa59123fe44c7eb92e307491767f8e",
            "placeholder": "​",
            "style": "IPY_MODEL_90b652efc7f14bbb97f61d0bafaa3339",
            "value": " 232k/232k [00:00&lt;00:00, 2.19MB/s]"
          }
        },
        "22fc7958bd634ad28df26bc454448056": {
          "model_module": "@jupyter-widgets/base",
          "model_name": "LayoutModel",
          "model_module_version": "1.2.0",
          "state": {
            "_model_module": "@jupyter-widgets/base",
            "_model_module_version": "1.2.0",
            "_model_name": "LayoutModel",
            "_view_count": null,
            "_view_module": "@jupyter-widgets/base",
            "_view_module_version": "1.2.0",
            "_view_name": "LayoutView",
            "align_content": null,
            "align_items": null,
            "align_self": null,
            "border": null,
            "bottom": null,
            "display": null,
            "flex": null,
            "flex_flow": null,
            "grid_area": null,
            "grid_auto_columns": null,
            "grid_auto_flow": null,
            "grid_auto_rows": null,
            "grid_column": null,
            "grid_gap": null,
            "grid_row": null,
            "grid_template_areas": null,
            "grid_template_columns": null,
            "grid_template_rows": null,
            "height": null,
            "justify_content": null,
            "justify_items": null,
            "left": null,
            "margin": null,
            "max_height": null,
            "max_width": null,
            "min_height": null,
            "min_width": null,
            "object_fit": null,
            "object_position": null,
            "order": null,
            "overflow": null,
            "overflow_x": null,
            "overflow_y": null,
            "padding": null,
            "right": null,
            "top": null,
            "visibility": null,
            "width": null
          }
        },
        "6e9f577d064249348f466fdb6df4a230": {
          "model_module": "@jupyter-widgets/base",
          "model_name": "LayoutModel",
          "model_module_version": "1.2.0",
          "state": {
            "_model_module": "@jupyter-widgets/base",
            "_model_module_version": "1.2.0",
            "_model_name": "LayoutModel",
            "_view_count": null,
            "_view_module": "@jupyter-widgets/base",
            "_view_module_version": "1.2.0",
            "_view_name": "LayoutView",
            "align_content": null,
            "align_items": null,
            "align_self": null,
            "border": null,
            "bottom": null,
            "display": null,
            "flex": null,
            "flex_flow": null,
            "grid_area": null,
            "grid_auto_columns": null,
            "grid_auto_flow": null,
            "grid_auto_rows": null,
            "grid_column": null,
            "grid_gap": null,
            "grid_row": null,
            "grid_template_areas": null,
            "grid_template_columns": null,
            "grid_template_rows": null,
            "height": null,
            "justify_content": null,
            "justify_items": null,
            "left": null,
            "margin": null,
            "max_height": null,
            "max_width": null,
            "min_height": null,
            "min_width": null,
            "object_fit": null,
            "object_position": null,
            "order": null,
            "overflow": null,
            "overflow_x": null,
            "overflow_y": null,
            "padding": null,
            "right": null,
            "top": null,
            "visibility": null,
            "width": null
          }
        },
        "ac71533b592948fca6c8c70d4c6a080c": {
          "model_module": "@jupyter-widgets/controls",
          "model_name": "DescriptionStyleModel",
          "model_module_version": "1.5.0",
          "state": {
            "_model_module": "@jupyter-widgets/controls",
            "_model_module_version": "1.5.0",
            "_model_name": "DescriptionStyleModel",
            "_view_count": null,
            "_view_module": "@jupyter-widgets/base",
            "_view_module_version": "1.2.0",
            "_view_name": "StyleView",
            "description_width": ""
          }
        },
        "ec98b345e0ed457abb9e346e5e93a399": {
          "model_module": "@jupyter-widgets/base",
          "model_name": "LayoutModel",
          "model_module_version": "1.2.0",
          "state": {
            "_model_module": "@jupyter-widgets/base",
            "_model_module_version": "1.2.0",
            "_model_name": "LayoutModel",
            "_view_count": null,
            "_view_module": "@jupyter-widgets/base",
            "_view_module_version": "1.2.0",
            "_view_name": "LayoutView",
            "align_content": null,
            "align_items": null,
            "align_self": null,
            "border": null,
            "bottom": null,
            "display": null,
            "flex": null,
            "flex_flow": null,
            "grid_area": null,
            "grid_auto_columns": null,
            "grid_auto_flow": null,
            "grid_auto_rows": null,
            "grid_column": null,
            "grid_gap": null,
            "grid_row": null,
            "grid_template_areas": null,
            "grid_template_columns": null,
            "grid_template_rows": null,
            "height": null,
            "justify_content": null,
            "justify_items": null,
            "left": null,
            "margin": null,
            "max_height": null,
            "max_width": null,
            "min_height": null,
            "min_width": null,
            "object_fit": null,
            "object_position": null,
            "order": null,
            "overflow": null,
            "overflow_x": null,
            "overflow_y": null,
            "padding": null,
            "right": null,
            "top": null,
            "visibility": null,
            "width": null
          }
        },
        "48d16f615a8a4da6b73e4b9c3225dde6": {
          "model_module": "@jupyter-widgets/controls",
          "model_name": "ProgressStyleModel",
          "model_module_version": "1.5.0",
          "state": {
            "_model_module": "@jupyter-widgets/controls",
            "_model_module_version": "1.5.0",
            "_model_name": "ProgressStyleModel",
            "_view_count": null,
            "_view_module": "@jupyter-widgets/base",
            "_view_module_version": "1.2.0",
            "_view_name": "StyleView",
            "bar_color": null,
            "description_width": ""
          }
        },
        "09aa59123fe44c7eb92e307491767f8e": {
          "model_module": "@jupyter-widgets/base",
          "model_name": "LayoutModel",
          "model_module_version": "1.2.0",
          "state": {
            "_model_module": "@jupyter-widgets/base",
            "_model_module_version": "1.2.0",
            "_model_name": "LayoutModel",
            "_view_count": null,
            "_view_module": "@jupyter-widgets/base",
            "_view_module_version": "1.2.0",
            "_view_name": "LayoutView",
            "align_content": null,
            "align_items": null,
            "align_self": null,
            "border": null,
            "bottom": null,
            "display": null,
            "flex": null,
            "flex_flow": null,
            "grid_area": null,
            "grid_auto_columns": null,
            "grid_auto_flow": null,
            "grid_auto_rows": null,
            "grid_column": null,
            "grid_gap": null,
            "grid_row": null,
            "grid_template_areas": null,
            "grid_template_columns": null,
            "grid_template_rows": null,
            "height": null,
            "justify_content": null,
            "justify_items": null,
            "left": null,
            "margin": null,
            "max_height": null,
            "max_width": null,
            "min_height": null,
            "min_width": null,
            "object_fit": null,
            "object_position": null,
            "order": null,
            "overflow": null,
            "overflow_x": null,
            "overflow_y": null,
            "padding": null,
            "right": null,
            "top": null,
            "visibility": null,
            "width": null
          }
        },
        "90b652efc7f14bbb97f61d0bafaa3339": {
          "model_module": "@jupyter-widgets/controls",
          "model_name": "DescriptionStyleModel",
          "model_module_version": "1.5.0",
          "state": {
            "_model_module": "@jupyter-widgets/controls",
            "_model_module_version": "1.5.0",
            "_model_name": "DescriptionStyleModel",
            "_view_count": null,
            "_view_module": "@jupyter-widgets/base",
            "_view_module_version": "1.2.0",
            "_view_name": "StyleView",
            "description_width": ""
          }
        },
        "78e90b93b4f14d66828738a61e37c604": {
          "model_module": "@jupyter-widgets/controls",
          "model_name": "HBoxModel",
          "model_module_version": "1.5.0",
          "state": {
            "_dom_classes": [],
            "_model_module": "@jupyter-widgets/controls",
            "_model_module_version": "1.5.0",
            "_model_name": "HBoxModel",
            "_view_count": null,
            "_view_module": "@jupyter-widgets/controls",
            "_view_module_version": "1.5.0",
            "_view_name": "HBoxView",
            "box_style": "",
            "children": [
              "IPY_MODEL_66b16dee5ab14377a413fc6dd87e1309",
              "IPY_MODEL_5904b0b8e6774bac967495ccd08cf5ea",
              "IPY_MODEL_b13691270ffd4a9786d22f72213b2551"
            ],
            "layout": "IPY_MODEL_db07e77311e546fb9b3e76ffa271a2a8"
          }
        },
        "66b16dee5ab14377a413fc6dd87e1309": {
          "model_module": "@jupyter-widgets/controls",
          "model_name": "HTMLModel",
          "model_module_version": "1.5.0",
          "state": {
            "_dom_classes": [],
            "_model_module": "@jupyter-widgets/controls",
            "_model_module_version": "1.5.0",
            "_model_name": "HTMLModel",
            "_view_count": null,
            "_view_module": "@jupyter-widgets/controls",
            "_view_module_version": "1.5.0",
            "_view_name": "HTMLView",
            "description": "",
            "description_tooltip": null,
            "layout": "IPY_MODEL_65dc4d7b7ea4448fb2a5609b96936ead",
            "placeholder": "​",
            "style": "IPY_MODEL_cdd90a7e188948118d4869f9ed3f55f0",
            "value": "tokenizer.json: 100%"
          }
        },
        "5904b0b8e6774bac967495ccd08cf5ea": {
          "model_module": "@jupyter-widgets/controls",
          "model_name": "FloatProgressModel",
          "model_module_version": "1.5.0",
          "state": {
            "_dom_classes": [],
            "_model_module": "@jupyter-widgets/controls",
            "_model_module_version": "1.5.0",
            "_model_name": "FloatProgressModel",
            "_view_count": null,
            "_view_module": "@jupyter-widgets/controls",
            "_view_module_version": "1.5.0",
            "_view_name": "ProgressView",
            "bar_style": "success",
            "description": "",
            "description_tooltip": null,
            "layout": "IPY_MODEL_e8d34fed514142fe9f9dc694e9f88331",
            "max": 466062,
            "min": 0,
            "orientation": "horizontal",
            "style": "IPY_MODEL_ab6331c93163426f8f26068e24b00848",
            "value": 466062
          }
        },
        "b13691270ffd4a9786d22f72213b2551": {
          "model_module": "@jupyter-widgets/controls",
          "model_name": "HTMLModel",
          "model_module_version": "1.5.0",
          "state": {
            "_dom_classes": [],
            "_model_module": "@jupyter-widgets/controls",
            "_model_module_version": "1.5.0",
            "_model_name": "HTMLModel",
            "_view_count": null,
            "_view_module": "@jupyter-widgets/controls",
            "_view_module_version": "1.5.0",
            "_view_name": "HTMLView",
            "description": "",
            "description_tooltip": null,
            "layout": "IPY_MODEL_bc5fc542f4fa476692f2350dc5f3bebe",
            "placeholder": "​",
            "style": "IPY_MODEL_46a41843fda34142a030eeb22f443cad",
            "value": " 466k/466k [00:00&lt;00:00, 5.29MB/s]"
          }
        },
        "db07e77311e546fb9b3e76ffa271a2a8": {
          "model_module": "@jupyter-widgets/base",
          "model_name": "LayoutModel",
          "model_module_version": "1.2.0",
          "state": {
            "_model_module": "@jupyter-widgets/base",
            "_model_module_version": "1.2.0",
            "_model_name": "LayoutModel",
            "_view_count": null,
            "_view_module": "@jupyter-widgets/base",
            "_view_module_version": "1.2.0",
            "_view_name": "LayoutView",
            "align_content": null,
            "align_items": null,
            "align_self": null,
            "border": null,
            "bottom": null,
            "display": null,
            "flex": null,
            "flex_flow": null,
            "grid_area": null,
            "grid_auto_columns": null,
            "grid_auto_flow": null,
            "grid_auto_rows": null,
            "grid_column": null,
            "grid_gap": null,
            "grid_row": null,
            "grid_template_areas": null,
            "grid_template_columns": null,
            "grid_template_rows": null,
            "height": null,
            "justify_content": null,
            "justify_items": null,
            "left": null,
            "margin": null,
            "max_height": null,
            "max_width": null,
            "min_height": null,
            "min_width": null,
            "object_fit": null,
            "object_position": null,
            "order": null,
            "overflow": null,
            "overflow_x": null,
            "overflow_y": null,
            "padding": null,
            "right": null,
            "top": null,
            "visibility": null,
            "width": null
          }
        },
        "65dc4d7b7ea4448fb2a5609b96936ead": {
          "model_module": "@jupyter-widgets/base",
          "model_name": "LayoutModel",
          "model_module_version": "1.2.0",
          "state": {
            "_model_module": "@jupyter-widgets/base",
            "_model_module_version": "1.2.0",
            "_model_name": "LayoutModel",
            "_view_count": null,
            "_view_module": "@jupyter-widgets/base",
            "_view_module_version": "1.2.0",
            "_view_name": "LayoutView",
            "align_content": null,
            "align_items": null,
            "align_self": null,
            "border": null,
            "bottom": null,
            "display": null,
            "flex": null,
            "flex_flow": null,
            "grid_area": null,
            "grid_auto_columns": null,
            "grid_auto_flow": null,
            "grid_auto_rows": null,
            "grid_column": null,
            "grid_gap": null,
            "grid_row": null,
            "grid_template_areas": null,
            "grid_template_columns": null,
            "grid_template_rows": null,
            "height": null,
            "justify_content": null,
            "justify_items": null,
            "left": null,
            "margin": null,
            "max_height": null,
            "max_width": null,
            "min_height": null,
            "min_width": null,
            "object_fit": null,
            "object_position": null,
            "order": null,
            "overflow": null,
            "overflow_x": null,
            "overflow_y": null,
            "padding": null,
            "right": null,
            "top": null,
            "visibility": null,
            "width": null
          }
        },
        "cdd90a7e188948118d4869f9ed3f55f0": {
          "model_module": "@jupyter-widgets/controls",
          "model_name": "DescriptionStyleModel",
          "model_module_version": "1.5.0",
          "state": {
            "_model_module": "@jupyter-widgets/controls",
            "_model_module_version": "1.5.0",
            "_model_name": "DescriptionStyleModel",
            "_view_count": null,
            "_view_module": "@jupyter-widgets/base",
            "_view_module_version": "1.2.0",
            "_view_name": "StyleView",
            "description_width": ""
          }
        },
        "e8d34fed514142fe9f9dc694e9f88331": {
          "model_module": "@jupyter-widgets/base",
          "model_name": "LayoutModel",
          "model_module_version": "1.2.0",
          "state": {
            "_model_module": "@jupyter-widgets/base",
            "_model_module_version": "1.2.0",
            "_model_name": "LayoutModel",
            "_view_count": null,
            "_view_module": "@jupyter-widgets/base",
            "_view_module_version": "1.2.0",
            "_view_name": "LayoutView",
            "align_content": null,
            "align_items": null,
            "align_self": null,
            "border": null,
            "bottom": null,
            "display": null,
            "flex": null,
            "flex_flow": null,
            "grid_area": null,
            "grid_auto_columns": null,
            "grid_auto_flow": null,
            "grid_auto_rows": null,
            "grid_column": null,
            "grid_gap": null,
            "grid_row": null,
            "grid_template_areas": null,
            "grid_template_columns": null,
            "grid_template_rows": null,
            "height": null,
            "justify_content": null,
            "justify_items": null,
            "left": null,
            "margin": null,
            "max_height": null,
            "max_width": null,
            "min_height": null,
            "min_width": null,
            "object_fit": null,
            "object_position": null,
            "order": null,
            "overflow": null,
            "overflow_x": null,
            "overflow_y": null,
            "padding": null,
            "right": null,
            "top": null,
            "visibility": null,
            "width": null
          }
        },
        "ab6331c93163426f8f26068e24b00848": {
          "model_module": "@jupyter-widgets/controls",
          "model_name": "ProgressStyleModel",
          "model_module_version": "1.5.0",
          "state": {
            "_model_module": "@jupyter-widgets/controls",
            "_model_module_version": "1.5.0",
            "_model_name": "ProgressStyleModel",
            "_view_count": null,
            "_view_module": "@jupyter-widgets/base",
            "_view_module_version": "1.2.0",
            "_view_name": "StyleView",
            "bar_color": null,
            "description_width": ""
          }
        },
        "bc5fc542f4fa476692f2350dc5f3bebe": {
          "model_module": "@jupyter-widgets/base",
          "model_name": "LayoutModel",
          "model_module_version": "1.2.0",
          "state": {
            "_model_module": "@jupyter-widgets/base",
            "_model_module_version": "1.2.0",
            "_model_name": "LayoutModel",
            "_view_count": null,
            "_view_module": "@jupyter-widgets/base",
            "_view_module_version": "1.2.0",
            "_view_name": "LayoutView",
            "align_content": null,
            "align_items": null,
            "align_self": null,
            "border": null,
            "bottom": null,
            "display": null,
            "flex": null,
            "flex_flow": null,
            "grid_area": null,
            "grid_auto_columns": null,
            "grid_auto_flow": null,
            "grid_auto_rows": null,
            "grid_column": null,
            "grid_gap": null,
            "grid_row": null,
            "grid_template_areas": null,
            "grid_template_columns": null,
            "grid_template_rows": null,
            "height": null,
            "justify_content": null,
            "justify_items": null,
            "left": null,
            "margin": null,
            "max_height": null,
            "max_width": null,
            "min_height": null,
            "min_width": null,
            "object_fit": null,
            "object_position": null,
            "order": null,
            "overflow": null,
            "overflow_x": null,
            "overflow_y": null,
            "padding": null,
            "right": null,
            "top": null,
            "visibility": null,
            "width": null
          }
        },
        "46a41843fda34142a030eeb22f443cad": {
          "model_module": "@jupyter-widgets/controls",
          "model_name": "DescriptionStyleModel",
          "model_module_version": "1.5.0",
          "state": {
            "_model_module": "@jupyter-widgets/controls",
            "_model_module_version": "1.5.0",
            "_model_name": "DescriptionStyleModel",
            "_view_count": null,
            "_view_module": "@jupyter-widgets/base",
            "_view_module_version": "1.2.0",
            "_view_name": "StyleView",
            "description_width": ""
          }
        },
        "94f82c34e75c4e66b60180c4ada27680": {
          "model_module": "@jupyter-widgets/controls",
          "model_name": "HBoxModel",
          "model_module_version": "1.5.0",
          "state": {
            "_dom_classes": [],
            "_model_module": "@jupyter-widgets/controls",
            "_model_module_version": "1.5.0",
            "_model_name": "HBoxModel",
            "_view_count": null,
            "_view_module": "@jupyter-widgets/controls",
            "_view_module_version": "1.5.0",
            "_view_name": "HBoxView",
            "box_style": "",
            "children": [
              "IPY_MODEL_c1a35af0edd24de29fc027e04d064a47",
              "IPY_MODEL_dd020f76e89b43d6b7145bc9480886a6",
              "IPY_MODEL_9bc5ab1600724c7bbbe29c446853cb3d"
            ],
            "layout": "IPY_MODEL_1a0ed3a53e0e421697e2a4bb63b5320e"
          }
        },
        "c1a35af0edd24de29fc027e04d064a47": {
          "model_module": "@jupyter-widgets/controls",
          "model_name": "HTMLModel",
          "model_module_version": "1.5.0",
          "state": {
            "_dom_classes": [],
            "_model_module": "@jupyter-widgets/controls",
            "_model_module_version": "1.5.0",
            "_model_name": "HTMLModel",
            "_view_count": null,
            "_view_module": "@jupyter-widgets/controls",
            "_view_module_version": "1.5.0",
            "_view_name": "HTMLView",
            "description": "",
            "description_tooltip": null,
            "layout": "IPY_MODEL_1612f8ffc1fe44c5adcc0511e4f15700",
            "placeholder": "​",
            "style": "IPY_MODEL_a57d620f2ee94ef1bada389fd4194063",
            "value": "model.safetensors: 100%"
          }
        },
        "dd020f76e89b43d6b7145bc9480886a6": {
          "model_module": "@jupyter-widgets/controls",
          "model_name": "FloatProgressModel",
          "model_module_version": "1.5.0",
          "state": {
            "_dom_classes": [],
            "_model_module": "@jupyter-widgets/controls",
            "_model_module_version": "1.5.0",
            "_model_name": "FloatProgressModel",
            "_view_count": null,
            "_view_module": "@jupyter-widgets/controls",
            "_view_module_version": "1.5.0",
            "_view_name": "ProgressView",
            "bar_style": "success",
            "description": "",
            "description_tooltip": null,
            "layout": "IPY_MODEL_10d3ceef67cb4c02a449f6b6f1e458bb",
            "max": 440449768,
            "min": 0,
            "orientation": "horizontal",
            "style": "IPY_MODEL_89032d0a17684a0f97e3018d5adc1a5e",
            "value": 440449768
          }
        },
        "9bc5ab1600724c7bbbe29c446853cb3d": {
          "model_module": "@jupyter-widgets/controls",
          "model_name": "HTMLModel",
          "model_module_version": "1.5.0",
          "state": {
            "_dom_classes": [],
            "_model_module": "@jupyter-widgets/controls",
            "_model_module_version": "1.5.0",
            "_model_name": "HTMLModel",
            "_view_count": null,
            "_view_module": "@jupyter-widgets/controls",
            "_view_module_version": "1.5.0",
            "_view_name": "HTMLView",
            "description": "",
            "description_tooltip": null,
            "layout": "IPY_MODEL_b136c106fbeb4f4ab4083355c960c1a0",
            "placeholder": "​",
            "style": "IPY_MODEL_58014d626b5d45129d5ef31891873117",
            "value": " 440M/440M [00:04&lt;00:00, 72.5MB/s]"
          }
        },
        "1a0ed3a53e0e421697e2a4bb63b5320e": {
          "model_module": "@jupyter-widgets/base",
          "model_name": "LayoutModel",
          "model_module_version": "1.2.0",
          "state": {
            "_model_module": "@jupyter-widgets/base",
            "_model_module_version": "1.2.0",
            "_model_name": "LayoutModel",
            "_view_count": null,
            "_view_module": "@jupyter-widgets/base",
            "_view_module_version": "1.2.0",
            "_view_name": "LayoutView",
            "align_content": null,
            "align_items": null,
            "align_self": null,
            "border": null,
            "bottom": null,
            "display": null,
            "flex": null,
            "flex_flow": null,
            "grid_area": null,
            "grid_auto_columns": null,
            "grid_auto_flow": null,
            "grid_auto_rows": null,
            "grid_column": null,
            "grid_gap": null,
            "grid_row": null,
            "grid_template_areas": null,
            "grid_template_columns": null,
            "grid_template_rows": null,
            "height": null,
            "justify_content": null,
            "justify_items": null,
            "left": null,
            "margin": null,
            "max_height": null,
            "max_width": null,
            "min_height": null,
            "min_width": null,
            "object_fit": null,
            "object_position": null,
            "order": null,
            "overflow": null,
            "overflow_x": null,
            "overflow_y": null,
            "padding": null,
            "right": null,
            "top": null,
            "visibility": null,
            "width": null
          }
        },
        "1612f8ffc1fe44c5adcc0511e4f15700": {
          "model_module": "@jupyter-widgets/base",
          "model_name": "LayoutModel",
          "model_module_version": "1.2.0",
          "state": {
            "_model_module": "@jupyter-widgets/base",
            "_model_module_version": "1.2.0",
            "_model_name": "LayoutModel",
            "_view_count": null,
            "_view_module": "@jupyter-widgets/base",
            "_view_module_version": "1.2.0",
            "_view_name": "LayoutView",
            "align_content": null,
            "align_items": null,
            "align_self": null,
            "border": null,
            "bottom": null,
            "display": null,
            "flex": null,
            "flex_flow": null,
            "grid_area": null,
            "grid_auto_columns": null,
            "grid_auto_flow": null,
            "grid_auto_rows": null,
            "grid_column": null,
            "grid_gap": null,
            "grid_row": null,
            "grid_template_areas": null,
            "grid_template_columns": null,
            "grid_template_rows": null,
            "height": null,
            "justify_content": null,
            "justify_items": null,
            "left": null,
            "margin": null,
            "max_height": null,
            "max_width": null,
            "min_height": null,
            "min_width": null,
            "object_fit": null,
            "object_position": null,
            "order": null,
            "overflow": null,
            "overflow_x": null,
            "overflow_y": null,
            "padding": null,
            "right": null,
            "top": null,
            "visibility": null,
            "width": null
          }
        },
        "a57d620f2ee94ef1bada389fd4194063": {
          "model_module": "@jupyter-widgets/controls",
          "model_name": "DescriptionStyleModel",
          "model_module_version": "1.5.0",
          "state": {
            "_model_module": "@jupyter-widgets/controls",
            "_model_module_version": "1.5.0",
            "_model_name": "DescriptionStyleModel",
            "_view_count": null,
            "_view_module": "@jupyter-widgets/base",
            "_view_module_version": "1.2.0",
            "_view_name": "StyleView",
            "description_width": ""
          }
        },
        "10d3ceef67cb4c02a449f6b6f1e458bb": {
          "model_module": "@jupyter-widgets/base",
          "model_name": "LayoutModel",
          "model_module_version": "1.2.0",
          "state": {
            "_model_module": "@jupyter-widgets/base",
            "_model_module_version": "1.2.0",
            "_model_name": "LayoutModel",
            "_view_count": null,
            "_view_module": "@jupyter-widgets/base",
            "_view_module_version": "1.2.0",
            "_view_name": "LayoutView",
            "align_content": null,
            "align_items": null,
            "align_self": null,
            "border": null,
            "bottom": null,
            "display": null,
            "flex": null,
            "flex_flow": null,
            "grid_area": null,
            "grid_auto_columns": null,
            "grid_auto_flow": null,
            "grid_auto_rows": null,
            "grid_column": null,
            "grid_gap": null,
            "grid_row": null,
            "grid_template_areas": null,
            "grid_template_columns": null,
            "grid_template_rows": null,
            "height": null,
            "justify_content": null,
            "justify_items": null,
            "left": null,
            "margin": null,
            "max_height": null,
            "max_width": null,
            "min_height": null,
            "min_width": null,
            "object_fit": null,
            "object_position": null,
            "order": null,
            "overflow": null,
            "overflow_x": null,
            "overflow_y": null,
            "padding": null,
            "right": null,
            "top": null,
            "visibility": null,
            "width": null
          }
        },
        "89032d0a17684a0f97e3018d5adc1a5e": {
          "model_module": "@jupyter-widgets/controls",
          "model_name": "ProgressStyleModel",
          "model_module_version": "1.5.0",
          "state": {
            "_model_module": "@jupyter-widgets/controls",
            "_model_module_version": "1.5.0",
            "_model_name": "ProgressStyleModel",
            "_view_count": null,
            "_view_module": "@jupyter-widgets/base",
            "_view_module_version": "1.2.0",
            "_view_name": "StyleView",
            "bar_color": null,
            "description_width": ""
          }
        },
        "b136c106fbeb4f4ab4083355c960c1a0": {
          "model_module": "@jupyter-widgets/base",
          "model_name": "LayoutModel",
          "model_module_version": "1.2.0",
          "state": {
            "_model_module": "@jupyter-widgets/base",
            "_model_module_version": "1.2.0",
            "_model_name": "LayoutModel",
            "_view_count": null,
            "_view_module": "@jupyter-widgets/base",
            "_view_module_version": "1.2.0",
            "_view_name": "LayoutView",
            "align_content": null,
            "align_items": null,
            "align_self": null,
            "border": null,
            "bottom": null,
            "display": null,
            "flex": null,
            "flex_flow": null,
            "grid_area": null,
            "grid_auto_columns": null,
            "grid_auto_flow": null,
            "grid_auto_rows": null,
            "grid_column": null,
            "grid_gap": null,
            "grid_row": null,
            "grid_template_areas": null,
            "grid_template_columns": null,
            "grid_template_rows": null,
            "height": null,
            "justify_content": null,
            "justify_items": null,
            "left": null,
            "margin": null,
            "max_height": null,
            "max_width": null,
            "min_height": null,
            "min_width": null,
            "object_fit": null,
            "object_position": null,
            "order": null,
            "overflow": null,
            "overflow_x": null,
            "overflow_y": null,
            "padding": null,
            "right": null,
            "top": null,
            "visibility": null,
            "width": null
          }
        },
        "58014d626b5d45129d5ef31891873117": {
          "model_module": "@jupyter-widgets/controls",
          "model_name": "DescriptionStyleModel",
          "model_module_version": "1.5.0",
          "state": {
            "_model_module": "@jupyter-widgets/controls",
            "_model_module_version": "1.5.0",
            "_model_name": "DescriptionStyleModel",
            "_view_count": null,
            "_view_module": "@jupyter-widgets/base",
            "_view_module_version": "1.2.0",
            "_view_name": "StyleView",
            "description_width": ""
          }
        }
      }
    }
  },
  "cells": [
    {
      "cell_type": "markdown",
      "metadata": {
        "id": "view-in-github",
        "colab_type": "text"
      },
      "source": [
        "<a href=\"https://colab.research.google.com/github/dellacortelab/nhanes_gigl/blob/main/tutorial/Dietary_GI_GL_Tutorial.ipynb\" target=\"_parent\"><img src=\"https://colab.research.google.com/assets/colab-badge.svg\" alt=\"Open In Colab\"/></a>"
      ]
    },
    {
      "cell_type": "markdown",
      "source": [
        "Let's learn how to add Dietary GI variables to a subset of the NHANES national health survey dataset.\n",
        "\n",
        "1. We will load the dataset.\n",
        "2. We will assign GI values.\n",
        "3. We calculate GL values.\n",
        "4. We will aggregate the data to get dietary GL values.\n",
        "5. We will calculate dietary GI values.\n",
        "6. We will perform some basic reporting."
      ],
      "metadata": {
        "id": "NYio3TCm8yCY"
      }
    },
    {
      "cell_type": "code",
      "execution_count": null,
      "metadata": {
        "id": "vQeJ-NLD8uVO"
      },
      "outputs": [],
      "source": [
        "!git clone https://github.com/dellacortelab/nhanes_gigl.git"
      ]
    },
    {
      "cell_type": "code",
      "source": [
        "import pickle\n",
        "with open('./nhanes_gigl/tutorial/demo_data.pkl', 'rb') as f:\n",
        "  df = pickle.load(f)"
      ],
      "metadata": {
        "id": "aSIojVTzKB4D"
      },
      "execution_count": null,
      "outputs": []
    },
    {
      "cell_type": "markdown",
      "source": [
        "Explore the Data Frame."
      ],
      "metadata": {
        "id": "aWrRl-XLMF-9"
      }
    },
    {
      "cell_type": "code",
      "source": [
        "df"
      ],
      "metadata": {
        "id": "HCYejOOcLuV8"
      },
      "execution_count": null,
      "outputs": []
    },
    {
      "cell_type": "markdown",
      "source": [
        "Let's extract the unique food codes."
      ],
      "metadata": {
        "id": "DqCGzFGxMOi3"
      }
    },
    {
      "cell_type": "code",
      "source": [
        "food_codes = df['USDA food code'].unique().astype(int)\n",
        "print('Example food code 1:', food_codes[0],'\\nExmaple food code 2:', food_codes[1])\n"
      ],
      "metadata": {
        "id": "rxlCl2vPMD38"
      },
      "execution_count": null,
      "outputs": []
    },
    {
      "cell_type": "markdown",
      "source": [
        "Now see if you can find the description of the food on: https://fdc.nal.usda.gov/"
      ],
      "metadata": {
        "id": "jH0dG7BhM6vJ"
      }
    },
    {
      "cell_type": "markdown",
      "source": [
        "Now let's find the GI values associated with these food: https://glycemicindex.com/gi-search/"
      ],
      "metadata": {
        "id": "4Xu3YVT5NO_V"
      }
    },
    {
      "cell_type": "markdown",
      "source": [
        "Imagine you would have to do this for over 10k food codes by hand! Enter the AI."
      ],
      "metadata": {
        "id": "O7m5WJlDNhQT"
      }
    },
    {
      "cell_type": "code",
      "source": [
        "def get_similarity(food1, food2):\n",
        "  '''Use BERT model to embed two food description strings and calculate similarity.'''\n",
        "  from transformers import AutoTokenizer, AutoModel\n",
        "  import torch\n",
        "  from scipy.spatial.distance import cosine\n",
        "\n",
        "  # Initialize the BERT model and tokenizer\n",
        "  tokenizer = AutoTokenizer.from_pretrained('bert-base-uncased')\n",
        "  model = AutoModel.from_pretrained('bert-base-uncased')\n",
        "\n",
        "  # Tokenize and encode the food descriptions\n",
        "  inputs1 = tokenizer(food1, return_tensors='pt', truncation=True, padding=True)\n",
        "  inputs2 = tokenizer(food2, return_tensors='pt', truncation=True, padding=True)\n",
        "\n",
        "  # Get the embeddings for the food descriptions\n",
        "  with torch.no_grad():\n",
        "      embed1 = model(**inputs1).last_hidden_state.mean(dim=1)\n",
        "      embed2 = model(**inputs2).last_hidden_state.mean(dim=1)\n",
        "\n",
        "  # Calculate the cosine similarity\n",
        "  similarity = 1 - cosine(embed1.numpy()[0,:], embed2.numpy()[0,:])\n",
        "\n",
        "  print(f\"The cosine similarity between the food descriptions is {similarity}\")\n",
        "  return similarity\n",
        "\n",
        "# Define the food descriptions\n",
        "food1 = \"Food Description from FoodData Central\"\n",
        "food2 = \"Food Description from GI Database\"\n",
        "get_similarity(food1, food2)"
      ],
      "metadata": {
        "colab": {
          "base_uri": "https://localhost:8080/",
          "height": 340,
          "referenced_widgets": [
            "fdbbba5132bc4d8f9188d72a126a4083",
            "817ebc71dd7d4f08a306f2fe60a58776",
            "a77288fe710a46ebb3eaee54a3be0257",
            "399d4e829b4947698bf3f2e1b158d269",
            "3b4f18afe5d8456880bf4181b5dd0ff8",
            "1a27de863c4e4200a09ad1640d212623",
            "6b15816812374cf7b07c4104409c775c",
            "4a2d63836fcc4ae6aa5367303c6389fa",
            "060a25290e1d445a85d919c69c200fa8",
            "fdd287c5b55c4feb93a8e4ea2ab2234b",
            "cf6747888d154cb3910c535a637b3040",
            "4e406e935d3c42cc952c0c73aaacd9b9",
            "9d5a3ae21d074cf6948d47aeda6f1f63",
            "1fbbb63b71a1483eab44a0c8fc211dd6",
            "35992fdd6df74b3c8886696cc5c3ad31",
            "5e8dfd4d970146249105ed6b609124a6",
            "c61e4cf0cb2b4f9db33ca1255113cb3e",
            "734a54f2e461407f950282ff177a9f42",
            "774a5be1717c42a6b15eb0315723f2f1",
            "f1aaa78ed7ab4beebf0ab3a1f4833d52",
            "624d428675e44f62beaa2b984a5b5c51",
            "47f4cbb67dfc4933abb671edc21c1356",
            "655bbade45d54a46bc0ff1edf1ffa321",
            "d0c455a4cd9b444db4f8471a9f450133",
            "15778ea912a340dd93258b42bdf64934",
            "2116d797f97b4dac86ce7fda45f26180",
            "22fc7958bd634ad28df26bc454448056",
            "6e9f577d064249348f466fdb6df4a230",
            "ac71533b592948fca6c8c70d4c6a080c",
            "ec98b345e0ed457abb9e346e5e93a399",
            "48d16f615a8a4da6b73e4b9c3225dde6",
            "09aa59123fe44c7eb92e307491767f8e",
            "90b652efc7f14bbb97f61d0bafaa3339",
            "78e90b93b4f14d66828738a61e37c604",
            "66b16dee5ab14377a413fc6dd87e1309",
            "5904b0b8e6774bac967495ccd08cf5ea",
            "b13691270ffd4a9786d22f72213b2551",
            "db07e77311e546fb9b3e76ffa271a2a8",
            "65dc4d7b7ea4448fb2a5609b96936ead",
            "cdd90a7e188948118d4869f9ed3f55f0",
            "e8d34fed514142fe9f9dc694e9f88331",
            "ab6331c93163426f8f26068e24b00848",
            "bc5fc542f4fa476692f2350dc5f3bebe",
            "46a41843fda34142a030eeb22f443cad",
            "94f82c34e75c4e66b60180c4ada27680",
            "c1a35af0edd24de29fc027e04d064a47",
            "dd020f76e89b43d6b7145bc9480886a6",
            "9bc5ab1600724c7bbbe29c446853cb3d",
            "1a0ed3a53e0e421697e2a4bb63b5320e",
            "1612f8ffc1fe44c5adcc0511e4f15700",
            "a57d620f2ee94ef1bada389fd4194063",
            "10d3ceef67cb4c02a449f6b6f1e458bb",
            "89032d0a17684a0f97e3018d5adc1a5e",
            "b136c106fbeb4f4ab4083355c960c1a0",
            "58014d626b5d45129d5ef31891873117"
          ]
        },
        "id": "LaIt9NLINNc2",
        "outputId": "edeb9a36-d26e-4c44-d0a1-cd75456825c0"
      },
      "execution_count": null,
      "outputs": [
        {
          "output_type": "stream",
          "name": "stderr",
          "text": [
            "/usr/local/lib/python3.10/dist-packages/huggingface_hub/utils/_token.py:88: UserWarning: \n",
            "The secret `HF_TOKEN` does not exist in your Colab secrets.\n",
            "To authenticate with the Hugging Face Hub, create a token in your settings tab (https://huggingface.co/settings/tokens), set it as secret in your Google Colab and restart your session.\n",
            "You will be able to reuse this secret in all of your notebooks.\n",
            "Please note that authentication is recommended but still optional to access public models or datasets.\n",
            "  warnings.warn(\n"
          ]
        },
        {
          "output_type": "display_data",
          "data": {
            "text/plain": [
              "tokenizer_config.json:   0%|          | 0.00/28.0 [00:00<?, ?B/s]"
            ],
            "application/vnd.jupyter.widget-view+json": {
              "version_major": 2,
              "version_minor": 0,
              "model_id": "fdbbba5132bc4d8f9188d72a126a4083"
            }
          },
          "metadata": {}
        },
        {
          "output_type": "display_data",
          "data": {
            "text/plain": [
              "config.json:   0%|          | 0.00/570 [00:00<?, ?B/s]"
            ],
            "application/vnd.jupyter.widget-view+json": {
              "version_major": 2,
              "version_minor": 0,
              "model_id": "4e406e935d3c42cc952c0c73aaacd9b9"
            }
          },
          "metadata": {}
        },
        {
          "output_type": "display_data",
          "data": {
            "text/plain": [
              "vocab.txt:   0%|          | 0.00/232k [00:00<?, ?B/s]"
            ],
            "application/vnd.jupyter.widget-view+json": {
              "version_major": 2,
              "version_minor": 0,
              "model_id": "655bbade45d54a46bc0ff1edf1ffa321"
            }
          },
          "metadata": {}
        },
        {
          "output_type": "display_data",
          "data": {
            "text/plain": [
              "tokenizer.json:   0%|          | 0.00/466k [00:00<?, ?B/s]"
            ],
            "application/vnd.jupyter.widget-view+json": {
              "version_major": 2,
              "version_minor": 0,
              "model_id": "78e90b93b4f14d66828738a61e37c604"
            }
          },
          "metadata": {}
        },
        {
          "output_type": "display_data",
          "data": {
            "text/plain": [
              "model.safetensors:   0%|          | 0.00/440M [00:00<?, ?B/s]"
            ],
            "application/vnd.jupyter.widget-view+json": {
              "version_major": 2,
              "version_minor": 0,
              "model_id": "94f82c34e75c4e66b60180c4ada27680"
            }
          },
          "metadata": {}
        },
        {
          "output_type": "stream",
          "name": "stdout",
          "text": [
            "The cosine similarity between the food descriptions is 0.8749364614486694\n"
          ]
        },
        {
          "output_type": "execute_result",
          "data": {
            "text/plain": [
              "0.8749364614486694"
            ]
          },
          "metadata": {},
          "execution_count": 1
        }
      ]
    },
    {
      "cell_type": "markdown",
      "source": [
        "Try yourself and see if you can use the above function to calculate the similarity between the USDA Food descriptions and GI table descriptions you looked up earlier."
      ],
      "metadata": {
        "id": "FW2BGEAHZqJk"
      }
    },
    {
      "cell_type": "code",
      "source": [
        "# Define the food descriptions\n",
        "food1 = \"Food Description from FoodData Central\"\n",
        "food2 = \"Food Description from GI Database\"\n",
        "get_similarity(food1, food2)"
      ],
      "metadata": {
        "id": "LtoQ7U8oZnB0"
      },
      "execution_count": null,
      "outputs": []
    },
    {
      "cell_type": "markdown",
      "source": [
        "The code above could be used to compare thousands of food descriptions between different databases. It uses a somewhat aged AI, called BERT. Our paper uses a more modern Large Language Model from Open-AI (the makers of ChatGPT). But for our purposes this example suffices."
      ],
      "metadata": {
        "id": "23kVc_pVOnLr"
      }
    },
    {
      "cell_type": "markdown",
      "source": [
        "Let's assume that we used the AI to align all food codes with corresponding GI values. Here, we will take random numbers for sake of time."
      ],
      "metadata": {
        "id": "4nFJS63xPA_-"
      }
    },
    {
      "cell_type": "code",
      "source": [
        "import numpy as np\n",
        "gi_values = [np.random.randint(45,100) for food_code in food_codes]\n",
        "food_codes_to_gi = dict(zip(food_codes, gi_values))\n",
        "for key in list(food_codes_to_gi.keys())[:5]:\n",
        "  print(key,':', food_codes_to_gi[key])"
      ],
      "metadata": {
        "id": "H7JirX42MoJt"
      },
      "execution_count": null,
      "outputs": []
    },
    {
      "cell_type": "markdown",
      "source": [
        "Now, let's add the new GI variable to our dataframe!"
      ],
      "metadata": {
        "id": "OnKyILClPj3N"
      }
    },
    {
      "cell_type": "code",
      "source": [
        "df['GI'] = df['USDA food code'].map(food_codes_to_gi)\n",
        "df"
      ],
      "metadata": {
        "id": "Kl2RXVaDPRcw"
      },
      "execution_count": null,
      "outputs": []
    },
    {
      "cell_type": "markdown",
      "source": [
        "Now let's calculate the GL value for each meal. This needs to take into account the available carbohydrates."
      ],
      "metadata": {
        "id": "bLc4RY80Pz2i"
      }
    },
    {
      "cell_type": "code",
      "source": [
        "df['Available Carbohydrate'] = df['Carbohydrate (gm)'] - df['Dietary fiber (gm)']\n",
        "df['GL'] = df['GI'] * df['Available Carbohydrate'] / 100\n",
        "df"
      ],
      "metadata": {
        "id": "vpocuJgpPxQm"
      },
      "execution_count": null,
      "outputs": []
    },
    {
      "cell_type": "markdown",
      "source": [
        "Now we can sum up all the food items consumed by a given respondent in the NHANES survey. If we do this for each day of reporting, we will get Dietary GL."
      ],
      "metadata": {
        "id": "VSWaGhEWQZ6Z"
      }
    },
    {
      "cell_type": "code",
      "source": [
        "agg_dict = {\n",
        "    'Dietary 20 Year Weight': 'first',\n",
        "    'Energy (kcal)': 'sum',\n",
        "    'Data release cycle': 'first',\n",
        "    'Available Carbohydrate':'sum',\n",
        "    'GI': 'sum',\n",
        "    'GL': 'sum'\n",
        "}\n",
        "summed_df = df.groupby(['respondent sequence number','Day']).agg(agg_dict).reset_index()\n",
        "summed_df.rename(columns={'GL': 'Dietary GL'}, inplace=True)\n",
        "summed_df['Dietary GI'] = summed_df['Dietary GL'] / summed_df['Available Carbohydrate']*100\n",
        "summed_df\n"
      ],
      "metadata": {
        "id": "UHZwVfq8QQuW"
      },
      "execution_count": null,
      "outputs": []
    },
    {
      "cell_type": "markdown",
      "source": [
        "Finally, we need to average over the different days, for those who respondent more than once."
      ],
      "metadata": {
        "id": "P8a5Z1ojR48e"
      }
    },
    {
      "cell_type": "code",
      "source": [
        "agg_dict = {\n",
        "    'Dietary 20 Year Weight': 'mean',\n",
        "    'Energy (kcal)': 'mean',\n",
        "    'Available Carbohydrate':'mean',\n",
        "    'Dietary GI': 'mean',\n",
        "    'Dietary GL': 'mean',\n",
        "    'Data release cycle': 'first',\n",
        "\n",
        "}\n",
        "summed_df = summed_df.groupby(['respondent sequence number']).agg(agg_dict).reset_index()\n",
        "summed_df"
      ],
      "metadata": {
        "id": "9qg0P6WURrfE"
      },
      "execution_count": null,
      "outputs": []
    },
    {
      "cell_type": "markdown",
      "source": [
        "Now we could do some exploration of the participants. In the example data, we only have Data release cycle as a variable. Others are available from NHANES and were used in the paper. Here, however, we just focus on time trends. Let's plot the average values and approximate the errors."
      ],
      "metadata": {
        "id": "ZaBbKgJnTPl0"
      }
    },
    {
      "cell_type": "code",
      "source": [
        "# prompt: create a plot showing means of df['Dietary GL'] aggregated by column Data release cycle\n",
        "\n",
        "import matplotlib.pyplot as plt\n",
        "import seaborn as sns\n",
        "\n",
        "plt.figure(figsize=(10, 6))\n",
        "sns.pointplot(x='Data release cycle', y='Dietary GL', data=summed_df)\n",
        "plt.xlabel('Data Release Cycle')\n",
        "plt.ylabel('Dietary GL')\n",
        "plt.title('Dietary GL by Data Release Cycle')\n",
        "plt.show()\n",
        "\n",
        "plt.figure(figsize=(10, 6))\n",
        "sns.pointplot(x='Data release cycle', y='Dietary GI', data=summed_df)\n",
        "plt.xlabel('Data Release Cycle')\n",
        "plt.ylabel('Dietary GI')\n",
        "plt.title('Dietary GI by Data Release Cycle')\n",
        "plt.show()\n"
      ],
      "metadata": {
        "id": "9HrpnH7zTr6Y"
      },
      "execution_count": null,
      "outputs": []
    },
    {
      "cell_type": "markdown",
      "source": [
        "Check out the plots. Do you see any interesting trends? Hopefully not, we drew random variables for GI!\n",
        "\n",
        "Before these values could be interpreted, some important things need to be done.\n",
        "\n",
        "1. The Dietary GL variable should be \"adjusted\" for total energy intake according to the residual method.\n",
        "2. We also need to exclude unreasonbale consumption levels.\n",
        "3. We want to use the NHANES weights to correctly calculate means."
      ],
      "metadata": {
        "id": "iE5qWEYrIGHA"
      }
    },
    {
      "cell_type": "code",
      "source": [
        "#now we need to energy adjust!\n",
        "from sklearn.linear_model import LinearRegression\n",
        "import pandas as pd\n",
        "\n",
        "for var in ['Dietary GI','Dietary GL', 'Available Carbohydrate']:\n",
        "    #index to avoid nan!\n",
        "\n",
        "    idx_energy = summed_df['Energy (kcal)'].notna()\n",
        "    idx = summed_df['Energy (kcal)'].notna() & summed_df[var].notna()\n",
        "\n",
        "    # Separate the independent variable (X) and the dependent variable (Y)\n",
        "    X, Y = summed_df['Energy (kcal)'][idx].to_numpy().reshape(-1, 1),summed_df[var][idx].to_numpy().reshape(-1, 1)\n",
        "\n",
        "    # Create a linear regression model\n",
        "    model = LinearRegression()\n",
        "\n",
        "    # Fit the model to the data\n",
        "    model.fit(X, Y)\n",
        "\n",
        "    # Get the slope (m) and y-intercept (b)\n",
        "    slope = model.coef_[0]\n",
        "    intercept = model.intercept_\n",
        "\n",
        "    # Predict Y values based on the regression line\n",
        "    predicted_Y = model.predict(X)\n",
        "\n",
        "    #Avoid missing or execssive consumption levels\n",
        "    condition1 = summed_df['Energy (kcal)'] > 600\n",
        "    condition2 = summed_df['Energy (kcal)'] < 5000\n",
        "\n",
        "    baseline_df = summed_df[(condition1 & condition2)]\n",
        "\n",
        "    mean_kcal = (baseline_df['Energy (kcal)'] * baseline_df['Dietary 20 Year Weight']).sum() / baseline_df['Dietary 20 Year Weight'].sum()\n",
        "    print('Baseline Energy intake mean', mean_kcal)\n",
        "    baseline = model.predict(np.array([mean_kcal]).reshape(-1,1))[0][0]\n",
        "    print(var, baseline)\n",
        "    # Add the new variable\n",
        "    summed_df['Adjusted '+var] = pd.NA\n",
        "\n",
        "    summed_df.loc[idx, 'Adjusted '+var] = (Y - predicted_Y) + baseline\n",
        "\n",
        "summed_df\n"
      ],
      "metadata": {
        "id": "VVWLWB5qI4Mi"
      },
      "execution_count": null,
      "outputs": []
    },
    {
      "cell_type": "markdown",
      "source": [
        "This dataset could be used to calculate linear regressions. However, NHANES follows a complex sample design, requiring more involved error calculations. Details can be found here: https://wwwn.cdc.gov/nchs/nhanes/tutorials/varianceestimation.aspx .\n",
        "Unfortunately, Python does not provide the right implementation to do this calculation (and our example dataset omits the necessary PSU information), but in R, Strata, or SAS this can be easily done."
      ],
      "metadata": {
        "id": "eh9AufFiKX6l"
      }
    },
    {
      "cell_type": "markdown",
      "source": [
        "One last quick check we can do is a correlation analysis. For this we can scatter two variables."
      ],
      "metadata": {
        "id": "gjrPNSFDLpFP"
      }
    },
    {
      "cell_type": "code",
      "source": [
        "#define the variables of interest\n",
        "x_var = 'Energy (kcal)'\n",
        "y_var = 'Adjusted Dietary GL'\n",
        "\n",
        "#plot\n",
        "plt.scatter(summed_df[x_var], summed_df[y_var])\n",
        "plt.xlabel(x_var)\n",
        "plt.ylabel(y_var)\n",
        "plt.title('Rough Correlation Analysis')\n",
        "plt.show()"
      ],
      "metadata": {
        "id": "65a3g7SRJgZA"
      },
      "execution_count": null,
      "outputs": []
    },
    {
      "cell_type": "markdown",
      "source": [
        "Which two variable do you expect to be highly correlated? Test a few combinations and check your intuition."
      ],
      "metadata": {
        "id": "EV9TxDgiMBe8"
      }
    },
    {
      "cell_type": "code",
      "source": [],
      "metadata": {
        "id": "xVEpcXx4L8Va"
      },
      "execution_count": null,
      "outputs": []
    }
  ]
}