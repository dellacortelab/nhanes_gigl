{
  "nbformat": 4,
  "nbformat_minor": 0,
  "metadata": {
    "colab": {
      "provenance": [],
      "authorship_tag": "ABX9TyO7FUHQhk5YXXJEOyyTL55v",
      "include_colab_link": true
    },
    "kernelspec": {
      "name": "python3",
      "display_name": "Python 3"
    },
    "language_info": {
      "name": "python"
    }
  },
  "cells": [
    {
      "cell_type": "markdown",
      "metadata": {
        "id": "view-in-github",
        "colab_type": "text"
      },
      "source": [
        "<a href=\"https://colab.research.google.com/github/dellacortelab/nhanes_gigl/blob/main/Dietary_GI_GL_Tutorial.ipynb\" target=\"_parent\"><img src=\"https://colab.research.google.com/assets/colab-badge.svg\" alt=\"Open In Colab\"/></a>"
      ]
    },
    {
      "cell_type": "markdown",
      "source": [
        "Let's learn how to add Dietary GI variables to a national health survey dataset.\n",
        "\n",
        "1. We will load the dataset.\n",
        "2. We will assign GI values.\n",
        "3. We calculate GL values.\n",
        "4. We aggregate the data get dietary GL values.\n",
        "5. We calculate dietary GI values.\n",
        "6. We perform some basic reporting."
      ],
      "metadata": {
        "id": "NYio3TCm8yCY"
      }
    },
    {
      "cell_type": "code",
      "execution_count": null,
      "metadata": {
        "id": "vQeJ-NLD8uVO"
      },
      "outputs": [],
      "source": []
    }
  ]
}